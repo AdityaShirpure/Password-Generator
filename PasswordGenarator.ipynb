{
 "cells": [
  {
   "cell_type": "code",
   "execution_count": 1,
   "metadata": {},
   "outputs": [
    {
     "name": "stdout",
     "output_type": "stream",
     "text": [
      "This password will take million years to crack by computer\n",
      "1 : ?mZp#yeC\"xuJ9K2~:?TO\n",
      "This password will take million years to crack by computer\n",
      "2 : hff'TTlmPg=N(^7P:l0!\n",
      "This password will take million years to crack by computer\n",
      "3 : JW/P:@;J0$Yy]Y9VsSn2\n",
      "This password will take million years to crack by computer\n",
      "4 : tty*`>X<B9+7_:PN!.S!\n",
      "This password will take million years to crack by computer\n",
      "5 : 1BbZ8AgmWlX<IR7#?C8J\n"
     ]
    }
   ],
   "source": [
    "#importing string and secrets modules\n",
    "import string\n",
    "import secrets\n",
    "\n",
    "# defining a function that takes default type arguments\n",
    "def generating_password(length : int , symbols : bool , uppercase : bool):\n",
    "\n",
    "    #this lines contains all lowercase letters & digits\n",
    "    combination = string.ascii_lowercase + string.digits\n",
    "\n",
    "# given condition for default parameters\n",
    "    if symbols:\n",
    "        combination += string.punctuation\n",
    "\n",
    "    if uppercase:\n",
    "        combination += string.ascii_uppercase\n",
    "\n",
    "# getting the length of the 'combination' variable\n",
    "    combination_length = len(combination)\n",
    "\n",
    "#print message if bool values are True\n",
    "    if symbols and uppercase:\n",
    "            print('This password will take million years to crack by computer')\n",
    "    else:  \n",
    "# creating empty strings for password variable\n",
    "    new_password = ''\n",
    "\n",
    "# running a loop for getting random combinations \n",
    "    for _ in range(length):\n",
    "        new_password += combination[secrets.randbelow(combination_length)]\n",
    "    return new_password\n",
    "\n",
    "# this for loop will call the main function n times\n",
    "for _, index in enumerate(range(5)):\n",
    "    print(index + 1, \":\",generating_password(length = 20, symbols = True, uppercase= True))\n",
    "\n",
    "\n"
   ]
  },
  {
   "cell_type": "code",
   "execution_count": null,
   "metadata": {},
   "outputs": [],
   "source": []
  }
 ],
 "metadata": {
  "kernelspec": {
   "display_name": "Python 3",
   "language": "python",
   "name": "python3"
  },
  "language_info": {
   "codemirror_mode": {
    "name": "ipython",
    "version": 3
   },
   "file_extension": ".py",
   "mimetype": "text/x-python",
   "name": "python",
   "nbconvert_exporter": "python",
   "pygments_lexer": "ipython3",
   "version": "3.11.1"
  },
  "orig_nbformat": 4,
  "vscode": {
   "interpreter": {
    "hash": "aee8b7b246df8f9039afb4144a1f6fd8d2ca17a180786b69acc140d282b71a49"
   }
  }
 },
 "nbformat": 4,
 "nbformat_minor": 2
}
